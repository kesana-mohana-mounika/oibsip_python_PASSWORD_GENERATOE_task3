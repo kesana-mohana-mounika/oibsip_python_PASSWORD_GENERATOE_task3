{
 "cells": [
  {
   "cell_type": "code",
   "execution_count": 1,
   "id": "b1320e68-7f8a-4931-a3e0-3c01e2aaaa1d",
   "metadata": {},
   "outputs": [],
   "source": [
    "import random\n",
    "import string\n",
    "import tkinter as tk\n",
    "from tkinter import messagebox\n",
    "import pyperclip\n",
    "#pyperclip is used to copy and paste text to and from the clipboard\n",
    "import sys\n"
   ]
  },
  {
   "cell_type": "code",
   "execution_count": 2,
   "id": "eb0e03ac-0559-4ba7-88b9-701b58127c47",
   "metadata": {},
   "outputs": [],
   "source": [
    "# Password Generator Logic\n",
    "def generate_password(length, use_letters=True, use_numbers=True, use_symbols=True):\n",
    "    characters = ''\n",
    "    if use_letters:\n",
    "        characters += string.ascii_letters\n",
    "    if use_numbers:\n",
    "        characters += string.digits\n",
    "    if use_symbols:\n",
    "        characters += string.punctuation\n",
    "\n",
    "    if not characters:\n",
    "        return None\n",
    "\n",
    "    password = ''.join(random.choice(characters) for _ in range(length))\n",
    "    return password"
   ]
  },
  {
   "cell_type": "code",
   "execution_count": 3,
   "id": "5caed11d-ac26-4a3d-ab94-35f050deb9e6",
   "metadata": {},
   "outputs": [],
   "source": [
    "# ---------------- CLI Mode text based interaction ----------------\n",
    "def run_cli_mode():\n",
    "    print(\"\\n🔐 CLI Password Generator\")\n",
    "    try:\n",
    "        length = int(input(\"Enter desired password length: \"))\n",
    "        use_letters = input(\"Include letters? (y/n): \").lower() == 'y'\n",
    "        use_numbers = input(\"Include numbers? (y/n): \").lower() == 'y'\n",
    "        use_symbols = input(\"Include symbols? (y/n): \").lower() == 'y'\n",
    "\n",
    "        password = generate_password(length, use_letters, use_numbers, use_symbols)\n",
    "\n",
    "        if password:\n",
    "            print(\"Generated Password:\", password)\n",
    "        else:\n",
    "            print(\"Error: No character types selected.\")\n",
    "    except ValueError:\n",
    "        print(\"Error: Please enter a valid number for length.\")"
   ]
  },
  {
   "cell_type": "code",
   "execution_count": 4,
   "id": "8a4c01a3-95a2-44c2-bbb0-1c3e88aca708",
   "metadata": {},
   "outputs": [],
   "source": [
    "# ---------------- GUI Mode ----------------\n",
    "def run_gui_mode():\n",
    "    def generate_password_gui():\n",
    "        try:\n",
    "            length = int(length_entry.get())\n",
    "            use_letters = letters_var.get()\n",
    "            use_numbers = numbers_var.get()\n",
    "            use_symbols = symbols_var.get()\n",
    "\n",
    "            password = generate_password(length, use_letters, use_numbers, use_symbols)\n",
    "\n",
    "            if password:\n",
    "                password_var.set(password)\n",
    "            else:\n",
    "                messagebox.showwarning(\"Warning\", \"Please select at least one character type.\")\n",
    "        except ValueError:\n",
    "            messagebox.showerror(\"Error\", \"Password length must be an integer.\")\n",
    "\n",
    "    def copy_to_clipboard():\n",
    "        pyperclip.copy(password_var.get())\n",
    "        messagebox.showinfo(\"Copied\", \"Password copied to clipboard!\")\n",
    "\n",
    "    root = tk.Tk()\n",
    "    root.title(\"Advanced Password Generator\")\n",
    "    root.geometry(\"400x300\")\n",
    "    root.configure(bg=\"#e6f2ff\")\n",
    "\n",
    "    password_var = tk.StringVar()\n",
    "    letters_var = tk.BooleanVar(value=True)\n",
    "    numbers_var = tk.BooleanVar(value=True)\n",
    "    symbols_var = tk.BooleanVar(value=True)\n",
    "\n",
    "    tk.Label(root, text=\"Password Length:\", bg=\"#e6f2ff\", font=(\"Helvetica\", 12)).pack(pady=5)\n",
    "    length_entry = tk.Entry(root, width=10)\n",
    "    length_entry.pack()\n",
    "\n",
    "    tk.Checkbutton(root, text=\"Include Letters\", variable=letters_var, bg=\"#e6f2ff\").pack(anchor='w', padx=50)\n",
    "    tk.Checkbutton(root, text=\"Include Numbers\", variable=numbers_var, bg=\"#e6f2ff\").pack(anchor='w', padx=50)\n",
    "    tk.Checkbutton(root, text=\"Include Symbols\", variable=symbols_var, bg=\"#e6f2ff\").pack(anchor='w', padx=50)\n",
    "\n",
    "    tk.Button(root, text=\"Generate Password\", command=generate_password_gui, bg=\"#0099cc\", fg=\"white\").pack(pady=10)\n",
    "    tk.Entry(root, textvariable=password_var, width=40, font=(\"Courier\", 12)).pack(pady=5)\n",
    "    tk.Button(root, text=\"Copy to Clipboard\", command=copy_to_clipboard, bg=\"#4CAF50\", fg=\"white\").pack(pady=5)\n",
    "\n",
    "    root.mainloop()"
   ]
  },
  {
   "cell_type": "code",
   "execution_count": 5,
   "id": "151145dc-b1db-4a86-af42-d9201b586012",
   "metadata": {},
   "outputs": [
    {
     "name": "stdout",
     "output_type": "stream",
     "text": [
      "Welcome to the Combined Password Generator!\n",
      "Choose Mode:\n",
      "1. Command-Line Interface (CLI)\n",
      "2. Graphical User Interface (GUI)\n"
     ]
    },
    {
     "name": "stdin",
     "output_type": "stream",
     "text": [
      "Enter 1 or 2:  2\n"
     ]
    }
   ],
   "source": [
    "# ---------------- Launcher ----------------\n",
    "def main():\n",
    "    print(\"Welcome to the Combined Password Generator!\")\n",
    "    print(\"Choose Mode:\")\n",
    "    print(\"1. Command-Line Interface (CLI)\")\n",
    "    print(\"2. Graphical User Interface (GUI)\")\n",
    "\n",
    "    choice = input(\"Enter 1 or 2: \").strip()\n",
    "\n",
    "    if choice == '1':\n",
    "        run_cli_mode()\n",
    "    elif choice == '2':\n",
    "        run_gui_mode()\n",
    "    else:\n",
    "        print(\"Invalid input. Exiting...\")\n",
    "\n",
    "if __name__ == \"__main__\":\n",
    "    main()"
   ]
  },
  {
   "cell_type": "code",
   "execution_count": null,
   "id": "9b88abe5-5f9d-497c-befe-b9cc285addbc",
   "metadata": {},
   "outputs": [],
   "source": []
  }
 ],
 "metadata": {
  "kernelspec": {
   "display_name": "Python 3 (ipykernel)",
   "language": "python",
   "name": "python3"
  },
  "language_info": {
   "codemirror_mode": {
    "name": "ipython",
    "version": 3
   },
   "file_extension": ".py",
   "mimetype": "text/x-python",
   "name": "python",
   "nbconvert_exporter": "python",
   "pygments_lexer": "ipython3",
   "version": "3.8.10"
  }
 },
 "nbformat": 4,
 "nbformat_minor": 5
}
